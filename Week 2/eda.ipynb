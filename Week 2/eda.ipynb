{
 "cells": [
  {
   "cell_type": "markdown",
   "id": "628f13ae",
   "metadata": {},
   "source": [
    "# EDA for Cab database\n",
    "\n",
    "## Basic setup\n",
    "\n",
    "Loading packages:\n",
    "- pandas (pd) to load and manage the db\n",
    "- numpy (np) mainly to access NaN\n",
    "- matplotlib. It's called through pandas, but I need import it directly to rotate the x-labels.\n",
    "- seaborn (sns) for simple plotting.\n",
    "    - selecting the basic theme"
   ]
  },
  {
   "cell_type": "code",
   "execution_count": 33,
   "id": "a7dddd46",
   "metadata": {},
   "outputs": [],
   "source": [
    "import pandas as pd\n",
    "import numpy as np\n",
    "from matplotlib import pyplot as plt\n",
    "# import seaborn as sns\n",
    "# sns.set_theme()"
   ]
  },
  {
   "cell_type": "markdown",
   "id": "78ba854c",
   "metadata": {},
   "source": [
    "Loading the different parts of the database."
   ]
  },
  {
   "cell_type": "code",
   "execution_count": 22,
   "id": "23630c8e",
   "metadata": {},
   "outputs": [],
   "source": [
    "trips = pd.read_csv(\"datasets/Cab_Data.csv\")\n",
    "customers = pd.read_csv(\"datasets/Customer_ID.csv\")\n",
    "cities = pd.read_csv(\"datasets/City.csv\")\n",
    "transactions = pd.read_csv(\"datasets/Transaction_ID.csv\")"
   ]
  },
  {
   "cell_type": "markdown",
   "id": "26621fe2",
   "metadata": {},
   "source": [
    "## Univariate analysis\n",
    "In the following snippets I explore fields individually. I focus on the \"main\" dataset, ```trips``` (```Cab_Data.csv```).\n",
    "\n",
    "Let's look at the missing entries in each field:"
   ]
  },
  {
   "cell_type": "code",
   "execution_count": 23,
   "id": "eaf76ea8",
   "metadata": {},
   "outputs": [
    {
     "name": "stdout",
     "output_type": "stream",
     "text": [
      "Number of entries: 359392\n",
      "\n",
      "Fraction of available entries per field:\n",
      "Transaction ID    1.0\n",
      "Date of Travel    1.0\n",
      "Company           1.0\n",
      "City              1.0\n",
      "KM Travelled      1.0\n",
      "Price Charged     1.0\n",
      "Cost of Trip      1.0\n",
      "dtype: float64\n",
      "\n",
      "Data types of each field:\n",
      "Transaction ID      int64\n",
      "Date of Travel      int64\n",
      "Company            object\n",
      "City               object\n",
      "KM Travelled      float64\n",
      "Price Charged     float64\n",
      "Cost of Trip      float64\n",
      "dtype: object\n"
     ]
    }
   ],
   "source": [
    "# Number of entries\n",
    "entry_count = trips.shape[0]\n",
    "print(f\"Number of entries: {entry_count}\\n\")\n",
    "print(f\"Fraction of available entries per field:\\n{trips.count() / entry_count}\\n\")\n",
    "print(f\"Data types of each field:\\n{trips.dtypes}\")"
   ]
  },
  {
   "cell_type": "markdown",
   "id": "51f653f0",
   "metadata": {},
   "source": [
    "On a first look all entries are completelly filled. However, missing values might still be present in other poorly formated shapes (e.g. strings containing \"NaN\" literally).\n",
    "\n",
    "The data types seem to be correct, although the format of the dates is not intuitive and needs processing. \n",
    "\n",
    "\n",
    "### Transaction ID:\n",
    "There are no apparent missing values, so for now we just check the field's range and it's unique values."
   ]
  },
  {
   "cell_type": "code",
   "execution_count": 24,
   "id": "bec8f8c7",
   "metadata": {},
   "outputs": [
    {
     "name": "stdout",
     "output_type": "stream",
     "text": [
      "0         10000011\n",
      "1         10000012\n",
      "2         10000013\n",
      "3         10000014\n",
      "4         10000015\n",
      "            ...   \n",
      "359387    10440101\n",
      "359388    10440104\n",
      "359389    10440105\n",
      "359390    10440106\n",
      "359391    10440107\n",
      "Name: Transaction ID, Length: 359392, dtype: int64\n",
      "\n",
      "Number of entries: 359392\n",
      "Unique values 359392\n",
      "Range of the IDs: [10000011-10440107]\n",
      "Size of the range: 440096\n"
     ]
    }
   ],
   "source": [
    "ids = trips[\"Transaction ID\"]\n",
    "print(ids)\n",
    "\n",
    "print(f\"\\nNumber of entries: {ids.count()}\")\n",
    "print(f\"Unique values {len(ids.unique())}\")\n",
    "print(f\"Range of the IDs: [{ids.min()}-{ids.max()}]\")\n",
    "print(f\"Size of the range: {ids.max()- ids.min()}\")"
   ]
  },
  {
   "cell_type": "markdown",
   "id": "047d540c",
   "metadata": {},
   "source": [
    "There are as many unique values as entries, which means that each row is properly identified by its ID.\n",
    "\n",
    "As an observation, it seems that each consecutive ID increments in 1. While the range suggests that there have been around 440000 entries, we only have access to around 360000. This could mean, for example, that the database has already been cleaned of missing entries or outliers.\n",
    "\n",
    "### Date of Travel\n",
    "As I mentioned before, this field should be propperly formatted. In the assignment text it is mentioned that the database is included in a period ranging from 31/01/2016 to 31/12/2018. If the integer at the ```Date of Travel``` field represents days, then there should be over 1000 of them (~3 years):"
   ]
  },
  {
   "cell_type": "code",
   "execution_count": 25,
   "id": "eb428b61",
   "metadata": {},
   "outputs": [
    {
     "data": {
      "text/plain": [
       "1094"
      ]
     },
     "execution_count": 25,
     "metadata": {},
     "output_type": "execute_result"
    }
   ],
   "source": [
    "time = trips[\"Date of Travel\"]\n",
    "time.max() - time.min()"
   ]
  },
  {
   "cell_type": "markdown",
   "id": "5b1f7ef4",
   "metadata": {},
   "source": [
    "This seems to indicate that the dates are measured in days. With this information, let's transform the format of the dates into a more readable format:"
   ]
  },
  {
   "cell_type": "code",
   "execution_count": 26,
   "id": "f53a78e7",
   "metadata": {},
   "outputs": [
    {
     "name": "stdout",
     "output_type": "stream",
     "text": [
      "0        2016-02-06\n",
      "1        2016-02-04\n",
      "2        2016-01-31\n",
      "3        2016-02-05\n",
      "4        2016-02-01\n",
      "            ...    \n",
      "359387   2018-02-06\n",
      "359388   2018-02-02\n",
      "359389   2018-02-03\n",
      "359390   2018-02-03\n",
      "359391   2018-01-31\n",
      "Name: Date of Travel, Length: 359392, dtype: datetime64[ns]\n",
      "\n",
      "First day: 2016-01-31 00:00:00\n",
      "\n",
      "Last day: 2019-01-29 00:00:00\n"
     ]
    }
   ],
   "source": [
    "origin = pd.to_datetime(\"31/01/2016\")\n",
    "trips[\"Date of Travel\"] = origin + pd.to_timedelta(time - time.min(), unit=\"D\")\n",
    "print(trips[\"Date of Travel\"])\n",
    "print(f\"\\nFirst day: {trips['Date of Travel'].min()}\")\n",
    "print(f\"\\nLast day: {trips['Date of Travel'].max()}\")"
   ]
  },
  {
   "cell_type": "markdown",
   "id": "fbc28de7",
   "metadata": {},
   "source": [
    "A time variable is quite juicy. Let's see how the amount of entries varies per month (approx)."
   ]
  },
  {
   "cell_type": "code",
   "execution_count": 28,
   "id": "d1407555",
   "metadata": {},
   "outputs": [
    {
     "data": {
      "text/plain": [
       "<AxesSubplot:>"
      ]
     },
     "execution_count": 28,
     "metadata": {},
     "output_type": "execute_result"
    },
    {
     "data": {
      "image/png": "[encoded data removed]",
      "text/plain": [
       "<Figure size 432x288 with 1 Axes>"
      ]
     },
     "metadata": {
      "needs_background": "light"
     },
     "output_type": "display_data"
    }
   ],
   "source": [
    "plt.xticks(rotation='vertical')\n",
    "trips[\"Date of Travel\"].hist(bins = 12 * 3)"
   ]
  },
  {
   "cell_type": "markdown",
   "id": "1540fb07",
   "metadata": {},
   "source": [
    "A clear seasonality can be appreciated, although I do not intend to do a proper analysis in this EDA. Let's move on with the next field:\n",
    "\n",
    "### Company\n",
    "This is clearly a categorical field, so let's check which categories are present."
   ]
  },
  {
   "cell_type": "code",
   "execution_count": 8,
   "id": "3393f9dd",
   "metadata": {},
   "outputs": [
    {
     "data": {
      "text/plain": [
       "array(['Pink Cab', 'Yellow Cab'], dtype=object)"
      ]
     },
     "execution_count": 8,
     "metadata": {},
     "output_type": "execute_result"
    }
   ],
   "source": [
    "trips[\"Company\"].unique()"
   ]
  },
  {
   "cell_type": "markdown",
   "id": "dad73bec",
   "metadata": {},
   "source": [
    "Two observations from this line:\n",
    "- There are only two companies: \"Pink Cab\" and \"Yellow Cab\".\n",
    "- There is no missing data, since we know that every entry is filled with either \"Pink Cab\" or \"Yellow Cab\" (i.e., there are no values with \"missing\", \"error\" or similar).\n",
    "\n",
    "Lastly for this field let's check how do these two companies compare in amount of trips:"
   ]
  },
  {
   "cell_type": "code",
   "execution_count": 29,
   "id": "451ee792",
   "metadata": {},
   "outputs": [
    {
     "data": {
      "text/plain": [
       "<AxesSubplot:>"
      ]
     },
     "execution_count": 29,
     "metadata": {},
     "output_type": "execute_result"
    },
    {
     "data": {
      "image/png": "[encoded data removed]",
      "text/plain": [
       "<Figure size 432x288 with 1 Axes>"
      ]
     },
     "metadata": {
      "needs_background": "light"
     },
     "output_type": "display_data"
    }
   ],
   "source": [
    "plt.xticks(rotation='vertical')\n",
    "trips[\"Company\"].hist(bins = 2)"
   ]
  },
  {
   "cell_type": "markdown",
   "id": "8e24c543",
   "metadata": {},
   "source": [
    "For this time period, \"Yellow Cab\" has had around 3 times as many transactions as \"Pink Cab\". Take into account that that doesn't mean that they made 3 times as much money, for example, since other factors such as the comission margin or the distance of the trips might influence the profit.\n",
    "\n",
    "### City\n",
    "Another categorical field. Let's see its possible values:"
   ]
  },
  {
   "cell_type": "code",
   "execution_count": 30,
   "id": "f3342203",
   "metadata": {},
   "outputs": [
    {
     "data": {
      "text/plain": [
       "array(['ATLANTA GA', 'AUSTIN TX', 'BOSTON MA', 'CHICAGO IL', 'DALLAS TX',\n",
       "       'DENVER CO', 'LOS ANGELES CA', 'MIAMI FL', 'NASHVILLE TN',\n",
       "       'NEW YORK NY', 'ORANGE COUNTY', 'PHOENIX AZ', 'PITTSBURGH PA',\n",
       "       'SACRAMENTO CA', 'SAN DIEGO CA', 'SEATTLE WA', 'SILICON VALLEY',\n",
       "       'TUCSON AZ', 'WASHINGTON DC'], dtype=object)"
      ]
     },
     "execution_count": 30,
     "metadata": {},
     "output_type": "execute_result"
    }
   ],
   "source": [
    "cities = trips[\"City\"]\n",
    "cities.unique()"
   ]
  },
  {
   "cell_type": "markdown",
   "id": "69f0a6e5",
   "metadata": {},
   "source": [
    "Just like with companies, every entry seems to be a propper city. If one wanted to process this field they should be careful, though, since the formats vary: e.g. ```SILICON VALLEY``` has two words but no state or ```NEW YORK NY``` has three words (with state).\n",
    "Let's see how many transactions there are per city:"
   ]
  },
  {
   "cell_type": "code",
   "execution_count": 34,
   "id": "32b91a2d",
   "metadata": {},
   "outputs": [
    {
     "data": {
      "text/plain": [
       "<AxesSubplot:>"
      ]
     },
     "execution_count": 34,
     "metadata": {},
     "output_type": "execute_result"
    },
    {
     "data": {
      "image/png": "[encoded data removed]",
      "text/plain": [
       "<Figure size 432x288 with 1 Axes>"
      ]
     },
     "metadata": {
      "needs_background": "light"
     },
     "output_type": "display_data"
    }
   ],
   "source": [
    "plt.xticks(rotation='vertical')\n",
    "cities.hist(bins = len(cities.unique()))"
   ]
  },
  {
   "cell_type": "markdown",
   "id": "6900ddb5",
   "metadata": {},
   "source": [
    "The dominant cities/areas are New York, Chicago, LA and Washington. These are also the most populated cities in USA: the dataset is asking us to compare this transactions with the population of the cities. This, however, should be attended in a proper analysis and not in the EDA.\n",
    "\n",
    "### KM Travelled\n",
    "This is a straightforward numerical value. Let's see what is its distribution: "
   ]
  },
  {
   "cell_type": "code",
   "execution_count": 38,
   "id": "3ccbfa18",
   "metadata": {},
   "outputs": [
    {
     "data": {
      "text/plain": [
       "<AxesSubplot:>"
      ]
     },
     "execution_count": 38,
     "metadata": {},
     "output_type": "execute_result"
    },
    {
     "data": {
      "image/png": "[encoded data removed]",
      "text/plain": [
       "<Figure size 432x288 with 1 Axes>"
      ]
     },
     "metadata": {
      "needs_background": "light"
     },
     "output_type": "display_data"
    }
   ],
   "source": [
    "kms = trips[\"KM Travelled\"]\n",
    "kms.hist(bins=40)"
   ]
  },
  {
   "cell_type": "markdown",
   "id": "9e5d0cfc",
   "metadata": {},
   "source": [
    "A pretty uniform distribution, with a slight increase in trips less than 5km and a linear decay from 40 to 50 km. Apaprently not a single transaction over 50km has been recorded in this database.\n",
    "\n",
    "### Price Charged and Cost of Trip\n",
    "These are twin values. Let's check their distribution:"
   ]
  },
  {
   "cell_type": "code",
   "execution_count": 48,
   "id": "9feb6efc",
   "metadata": {},
   "outputs": [
    {
     "data": {
      "image/png": "[encoded data removed]",
      "text/plain": [
       "<Figure size 432x288 with 1 Axes>"
      ]
     },
     "metadata": {
      "needs_background": "light"
     },
     "output_type": "display_data"
    }
   ],
   "source": [
    "charged = trips[\"Price Charged\"]\n",
    "cost = trips[\"Cost of Trip\"]\n",
    "bins = list(range(0, int(charged.max()), 20))\n",
    "plt.hist(charged, alpha = 0.5, bins=bins, label=\"Charged\")\n",
    "plt.hist(cost, alpha = 0.5, bins=bins, label=\"Cost\")\n",
    "plt.legend()\n",
    "plt.show()"
   ]
  },
  {
   "cell_type": "markdown",
   "id": "1e06e05a",
   "metadata": {},
   "source": [
    "The charged prices has a higher distribution of values than the cost prices, as expected. Notice, though, that one distribution is not just a translated version of the other. This indicates that the profit margin is variable with the cost.\n",
    "\n",
    "Talking about margin, that is an interesting field to consider. Let's include it in the database and see how it relates, for example, to the traveled km:"
   ]
  },
  {
   "cell_type": "code",
   "execution_count": 58,
   "id": "a27092f0",
   "metadata": {},
   "outputs": [
    {
     "name": "stdout",
     "output_type": "stream",
     "text": [
      "Range of the margin: [-220$ to 1463$]\n"
     ]
    }
   ],
   "source": [
    "trips[\"Margin\"] = charged - cost\n",
    "lowest = int(trips[\"Margin\"].min())\n",
    "highest = int(trips[\"Margin\"].max())\n",
    "print(f'Range of the margin: [{lowest}$ to {highest}$]')"
   ]
  },
  {
   "cell_type": "markdown",
   "id": "324f0394",
   "metadata": {},
   "source": [
    "That's unexpected! it seems that for some trips there have been losses (negative profit)! Let's see how the margin relates to the cost:"
   ]
  },
  {
   "cell_type": "code",
   "execution_count": 71,
   "id": "153cc8d4",
   "metadata": {},
   "outputs": [
    {
     "data": {
      "text/plain": [
       "<matplotlib.legend.Legend at 0x7f4d220bba90>"
      ]
     },
     "execution_count": 71,
     "metadata": {},
     "output_type": "execute_result"
    },
    {
     "data": {
      "image/png": "[encoded data removed]",
      "text/plain": [
       "<Figure size 432x288 with 1 Axes>"
      ]
     },
     "metadata": {
      "needs_background": "light"
     },
     "output_type": "display_data"
    }
   ],
   "source": [
    "plt.scatter(cost, trips[\"Margin\"])\n",
    "plt.plot([0, cost.max()], [0, 0], c=\"r\", linewidth=5, label=\"Profit=0\")\n",
    "plt.legend()"
   ]
  },
  {
   "cell_type": "markdown",
   "id": "635c40b6",
   "metadata": {},
   "source": [
    "As we can see, most of the points have a positive profit, but there is still a lot of points where are losses. Finally, let's check what's the proportion between this points."
   ]
  },
  {
   "cell_type": "code",
   "execution_count": 75,
   "id": "07eee778",
   "metadata": {},
   "outputs": [
    {
     "name": "stdout",
     "output_type": "stream",
     "text": [
      "Percentage of trips with losses: 6%\n"
     ]
    }
   ],
   "source": [
    "total_transactions = trips[\"Margin\"].count()\n",
    "losses_transactions = trips[\"Margin\"].loc[trips[\"Margin\"] < 0].count()\n",
    "print(f\"Percentage of trips with losses: {(100 * losses_transactions) // total_transactions}%\")"
   ]
  }
 ],
 "metadata": {
  "kernelspec": {
   "display_name": "Python 3 (ipykernel)",
   "language": "python",
   "name": "python3"
  },
  "language_info": {
   "codemirror_mode": {
    "name": "ipython",
    "version": 3
   },
   "file_extension": ".py",
   "mimetype": "text/x-python",
   "name": "python",
   "nbconvert_exporter": "python",
   "pygments_lexer": "ipython3",
   "version": "3.9.9"
  }
 },
 "nbformat": 4,
 "nbformat_minor": 5
}
