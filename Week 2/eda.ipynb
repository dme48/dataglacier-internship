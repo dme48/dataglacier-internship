{
 "cells": [
  {
   "cell_type": "markdown",
   "id": "0f2e41bb",
   "metadata": {},
   "source": [
    "# Exploratory Data Analysis\n",
    "\n",
    "## Generating master data\n",
    "In this subsection I will depurate the database and form the \"master data\", a single .csv file containing all the relevant fields. This is very ineficient memory-wise, but eases plotting and selecting data drastically."
   ]
  },
  {
   "cell_type": "code",
   "execution_count": 1,
   "id": "46406687",
   "metadata": {},
   "outputs": [
    {
     "data": {
      "text/html": [
       "<div>\n",
       "<style scoped>\n",
       "    .dataframe tbody tr th:only-of-type {\n",
       "        vertical-align: middle;\n",
       "    }\n",
       "\n",
       "    .dataframe tbody tr th {\n",
       "        vertical-align: top;\n",
       "    }\n",
       "\n",
       "    .dataframe thead th {\n",
       "        text-align: right;\n",
       "    }\n",
       "</style>\n",
       "<table border=\"1\" class=\"dataframe\">\n",
       "  <thead>\n",
       "    <tr style=\"text-align: right;\">\n",
       "      <th></th>\n",
       "      <th>Transaction ID</th>\n",
       "      <th>Date of Travel</th>\n",
       "      <th>Company</th>\n",
       "      <th>City</th>\n",
       "      <th>KM Travelled</th>\n",
       "      <th>Price Charged</th>\n",
       "      <th>Cost of Trip</th>\n",
       "      <th>Population</th>\n",
       "      <th>Users</th>\n",
       "      <th>Customer ID</th>\n",
       "      <th>Gender</th>\n",
       "      <th>Age</th>\n",
       "      <th>Income (USD/Month)</th>\n",
       "      <th>Payment_Mode</th>\n",
       "    </tr>\n",
       "  </thead>\n",
       "  <tbody>\n",
       "    <tr>\n",
       "      <th>0</th>\n",
       "      <td>10000011</td>\n",
       "      <td>42377</td>\n",
       "      <td>Pink Cab</td>\n",
       "      <td>ATLANTA GA</td>\n",
       "      <td>30.45</td>\n",
       "      <td>370.95</td>\n",
       "      <td>313.6350</td>\n",
       "      <td>814,885</td>\n",
       "      <td>24,701</td>\n",
       "      <td>29290</td>\n",
       "      <td>Male</td>\n",
       "      <td>28</td>\n",
       "      <td>10813</td>\n",
       "      <td>Card</td>\n",
       "    </tr>\n",
       "    <tr>\n",
       "      <th>1</th>\n",
       "      <td>10000012</td>\n",
       "      <td>42375</td>\n",
       "      <td>Pink Cab</td>\n",
       "      <td>ATLANTA GA</td>\n",
       "      <td>28.62</td>\n",
       "      <td>358.52</td>\n",
       "      <td>334.8540</td>\n",
       "      <td>814,885</td>\n",
       "      <td>24,701</td>\n",
       "      <td>27703</td>\n",
       "      <td>Male</td>\n",
       "      <td>27</td>\n",
       "      <td>9237</td>\n",
       "      <td>Card</td>\n",
       "    </tr>\n",
       "    <tr>\n",
       "      <th>2</th>\n",
       "      <td>10000013</td>\n",
       "      <td>42371</td>\n",
       "      <td>Pink Cab</td>\n",
       "      <td>ATLANTA GA</td>\n",
       "      <td>9.04</td>\n",
       "      <td>125.20</td>\n",
       "      <td>97.6320</td>\n",
       "      <td>814,885</td>\n",
       "      <td>24,701</td>\n",
       "      <td>28712</td>\n",
       "      <td>Male</td>\n",
       "      <td>53</td>\n",
       "      <td>11242</td>\n",
       "      <td>Cash</td>\n",
       "    </tr>\n",
       "    <tr>\n",
       "      <th>3</th>\n",
       "      <td>10000014</td>\n",
       "      <td>42376</td>\n",
       "      <td>Pink Cab</td>\n",
       "      <td>ATLANTA GA</td>\n",
       "      <td>33.17</td>\n",
       "      <td>377.40</td>\n",
       "      <td>351.6020</td>\n",
       "      <td>814,885</td>\n",
       "      <td>24,701</td>\n",
       "      <td>28020</td>\n",
       "      <td>Male</td>\n",
       "      <td>23</td>\n",
       "      <td>23327</td>\n",
       "      <td>Cash</td>\n",
       "    </tr>\n",
       "    <tr>\n",
       "      <th>4</th>\n",
       "      <td>10000015</td>\n",
       "      <td>42372</td>\n",
       "      <td>Pink Cab</td>\n",
       "      <td>ATLANTA GA</td>\n",
       "      <td>8.73</td>\n",
       "      <td>114.62</td>\n",
       "      <td>97.7760</td>\n",
       "      <td>814,885</td>\n",
       "      <td>24,701</td>\n",
       "      <td>27182</td>\n",
       "      <td>Male</td>\n",
       "      <td>33</td>\n",
       "      <td>8536</td>\n",
       "      <td>Card</td>\n",
       "    </tr>\n",
       "    <tr>\n",
       "      <th>...</th>\n",
       "      <td>...</td>\n",
       "      <td>...</td>\n",
       "      <td>...</td>\n",
       "      <td>...</td>\n",
       "      <td>...</td>\n",
       "      <td>...</td>\n",
       "      <td>...</td>\n",
       "      <td>...</td>\n",
       "      <td>...</td>\n",
       "      <td>...</td>\n",
       "      <td>...</td>\n",
       "      <td>...</td>\n",
       "      <td>...</td>\n",
       "      <td>...</td>\n",
       "    </tr>\n",
       "    <tr>\n",
       "      <th>359387</th>\n",
       "      <td>10440101</td>\n",
       "      <td>43108</td>\n",
       "      <td>Yellow Cab</td>\n",
       "      <td>WASHINGTON DC</td>\n",
       "      <td>4.80</td>\n",
       "      <td>69.24</td>\n",
       "      <td>63.3600</td>\n",
       "      <td>418,859</td>\n",
       "      <td>127,001</td>\n",
       "      <td>52392</td>\n",
       "      <td>Male</td>\n",
       "      <td>24</td>\n",
       "      <td>15651</td>\n",
       "      <td>Cash</td>\n",
       "    </tr>\n",
       "    <tr>\n",
       "      <th>359388</th>\n",
       "      <td>10440104</td>\n",
       "      <td>43104</td>\n",
       "      <td>Yellow Cab</td>\n",
       "      <td>WASHINGTON DC</td>\n",
       "      <td>8.40</td>\n",
       "      <td>113.75</td>\n",
       "      <td>106.8480</td>\n",
       "      <td>418,859</td>\n",
       "      <td>127,001</td>\n",
       "      <td>53286</td>\n",
       "      <td>Male</td>\n",
       "      <td>32</td>\n",
       "      <td>6528</td>\n",
       "      <td>Cash</td>\n",
       "    </tr>\n",
       "    <tr>\n",
       "      <th>359389</th>\n",
       "      <td>10440105</td>\n",
       "      <td>43105</td>\n",
       "      <td>Yellow Cab</td>\n",
       "      <td>WASHINGTON DC</td>\n",
       "      <td>27.75</td>\n",
       "      <td>437.07</td>\n",
       "      <td>349.6500</td>\n",
       "      <td>418,859</td>\n",
       "      <td>127,001</td>\n",
       "      <td>52265</td>\n",
       "      <td>Male</td>\n",
       "      <td>56</td>\n",
       "      <td>7966</td>\n",
       "      <td>Cash</td>\n",
       "    </tr>\n",
       "    <tr>\n",
       "      <th>359390</th>\n",
       "      <td>10440106</td>\n",
       "      <td>43105</td>\n",
       "      <td>Yellow Cab</td>\n",
       "      <td>WASHINGTON DC</td>\n",
       "      <td>8.80</td>\n",
       "      <td>146.19</td>\n",
       "      <td>114.0480</td>\n",
       "      <td>418,859</td>\n",
       "      <td>127,001</td>\n",
       "      <td>52175</td>\n",
       "      <td>Male</td>\n",
       "      <td>32</td>\n",
       "      <td>6423</td>\n",
       "      <td>Card</td>\n",
       "    </tr>\n",
       "    <tr>\n",
       "      <th>359391</th>\n",
       "      <td>10440107</td>\n",
       "      <td>43102</td>\n",
       "      <td>Yellow Cab</td>\n",
       "      <td>WASHINGTON DC</td>\n",
       "      <td>12.76</td>\n",
       "      <td>191.58</td>\n",
       "      <td>177.6192</td>\n",
       "      <td>418,859</td>\n",
       "      <td>127,001</td>\n",
       "      <td>52917</td>\n",
       "      <td>Male</td>\n",
       "      <td>20</td>\n",
       "      <td>11284</td>\n",
       "      <td>Card</td>\n",
       "    </tr>\n",
       "  </tbody>\n",
       "</table>\n",
       "<p>359392 rows × 14 columns</p>\n",
       "</div>"
      ],
      "text/plain": [
       "        Transaction ID  Date of Travel     Company           City  \\\n",
       "0             10000011           42377    Pink Cab     ATLANTA GA   \n",
       "1             10000012           42375    Pink Cab     ATLANTA GA   \n",
       "2             10000013           42371    Pink Cab     ATLANTA GA   \n",
       "3             10000014           42376    Pink Cab     ATLANTA GA   \n",
       "4             10000015           42372    Pink Cab     ATLANTA GA   \n",
       "...                ...             ...         ...            ...   \n",
       "359387        10440101           43108  Yellow Cab  WASHINGTON DC   \n",
       "359388        10440104           43104  Yellow Cab  WASHINGTON DC   \n",
       "359389        10440105           43105  Yellow Cab  WASHINGTON DC   \n",
       "359390        10440106           43105  Yellow Cab  WASHINGTON DC   \n",
       "359391        10440107           43102  Yellow Cab  WASHINGTON DC   \n",
       "\n",
       "        KM Travelled  Price Charged  Cost of Trip Population      Users  \\\n",
       "0              30.45         370.95      313.6350   814,885     24,701    \n",
       "1              28.62         358.52      334.8540   814,885     24,701    \n",
       "2               9.04         125.20       97.6320   814,885     24,701    \n",
       "3              33.17         377.40      351.6020   814,885     24,701    \n",
       "4               8.73         114.62       97.7760   814,885     24,701    \n",
       "...              ...            ...           ...        ...        ...   \n",
       "359387          4.80          69.24       63.3600   418,859    127,001    \n",
       "359388          8.40         113.75      106.8480   418,859    127,001    \n",
       "359389         27.75         437.07      349.6500   418,859    127,001    \n",
       "359390          8.80         146.19      114.0480   418,859    127,001    \n",
       "359391         12.76         191.58      177.6192   418,859    127,001    \n",
       "\n",
       "        Customer ID Gender  Age  Income (USD/Month) Payment_Mode  \n",
       "0             29290   Male   28               10813         Card  \n",
       "1             27703   Male   27                9237         Card  \n",
       "2             28712   Male   53               11242         Cash  \n",
       "3             28020   Male   23               23327         Cash  \n",
       "4             27182   Male   33                8536         Card  \n",
       "...             ...    ...  ...                 ...          ...  \n",
       "359387        52392   Male   24               15651         Cash  \n",
       "359388        53286   Male   32                6528         Cash  \n",
       "359389        52265   Male   56                7966         Cash  \n",
       "359390        52175   Male   32                6423         Card  \n",
       "359391        52917   Male   20               11284         Card  \n",
       "\n",
       "[359392 rows x 14 columns]"
      ]
     },
     "execution_count": 1,
     "metadata": {},
     "output_type": "execute_result"
    }
   ],
   "source": [
    "import pandas as pd\n",
    "\n",
    "trips = pd.read_csv(\"datasets/Cab_Data.csv\")\n",
    "cities = pd.read_csv(\"datasets/City.csv\")\n",
    "customers = pd.read_csv(\"datasets/Customer_ID.csv\")\n",
    "transactions = pd.read_csv(\"datasets/Transaction_ID.csv\")\n",
    "\n",
    "master = pd.merge(pd.merge(trips, cities, on=\"City\"),\n",
    "                  pd.merge(customers, transactions, on=\"Customer ID\"),\n",
    "                  on=\"Transaction ID\")\n",
    "\n",
    "del trips, cities, customers, transactions\n",
    "master"
   ]
  },
  {
   "cell_type": "markdown",
   "id": "c54e72c5",
   "metadata": {},
   "source": [
    "## Assumptions:\n",
    "- The field \"Cost of Trip\" includes every possible expense, in such a way that the profit of a trip can be defined as the difference between its \"Price Charged\" and \"Cost of Trip\".\n",
    "- The field \"Date of Travel\", whose values are integers, represents days; two adjacent integers represent two adjacent days and the lowest integer in the record corresponds to the starting date indicated in the assignment (31/01/2016).\n",
    "\n",
    "## Univariate Analysis\n",
    "In this section we will make a shallow analysis of the individual variables, focusing on the \"main\" fields, i.e. those in ```Cab_Data.csv```.\n",
    "\n",
    "As a start, let's see how many missing values are present:"
   ]
  },
  {
   "cell_type": "code",
   "execution_count": 2,
   "id": "8c6c6a67",
   "metadata": {},
   "outputs": [
    {
     "name": "stdout",
     "output_type": "stream",
     "text": [
      "\u001b[1mNumber of entries:\u001b[0m 359392\n",
      "\n",
      "\u001b[1mPercentage of available entries per field:\u001b[0m\n",
      "Transaction ID        100\n",
      "Date of Travel        100\n",
      "Company               100\n",
      "City                  100\n",
      "KM Travelled          100\n",
      "Price Charged         100\n",
      "Cost of Trip          100\n",
      "Population            100\n",
      "Users                 100\n",
      "Customer ID           100\n",
      "Gender                100\n",
      "Age                   100\n",
      "Income (USD/Month)    100\n",
      "Payment_Mode          100\n",
      "dtype: int64\n",
      "\n",
      "\u001b[1mData types of each field:\u001b[0m\n",
      "Transaction ID          int64\n",
      "Date of Travel          int64\n",
      "Company                object\n",
      "City                   object\n",
      "KM Travelled          float64\n",
      "Price Charged         float64\n",
      "Cost of Trip          float64\n",
      "Population             object\n",
      "Users                  object\n",
      "Customer ID             int64\n",
      "Gender                 object\n",
      "Age                     int64\n",
      "Income (USD/Month)      int64\n",
      "Payment_Mode           object\n",
      "dtype: object\n"
     ]
    }
   ],
   "source": [
    "row_count = master.shape[0]\n",
    "def bold(msg: str) -> str:\n",
    "    return f\"\\033[1m{msg}\\033[0m\"\n",
    "\n",
    "print(f\"{bold('Number of entries:')} {row_count}\")\n",
    "print()\n",
    "print(bold('Percentage of available entries per field:'))\n",
    "print((100 * master.count()) // row_count)\n",
    "print()\n",
    "print(bold('Data types of each field:'))\n",
    "print(master.dtypes)"
   ]
  },
  {
   "cell_type": "markdown",
   "id": "c3d5ead0",
   "metadata": {},
   "source": [
    "On a first look all entries are completelly filled. However, missing values might still be present in other poorly formated shapes (e.g. strings containing \"NaN\" literally).\n",
    "\n",
    "The data types seem to be correct, although the format of the dates -increasing integers- is not intuitive and needs processing.\n",
    "\n",
    "### Transaction ID:\n",
    "There are no apparent missing values, so for now we just check the field's range and it's unique values."
   ]
  },
  {
   "cell_type": "code",
   "execution_count": 3,
   "id": "bec8f8c7",
   "metadata": {},
   "outputs": [
    {
     "name": "stdout",
     "output_type": "stream",
     "text": [
      "\n",
      "\u001b[1mNumber of entries:\u001b[0m 359392\n",
      "\u001b[1mUnique values:\u001b[0m 359392\n",
      "\u001b[1mRange of the IDs:\u001b[0m [10000011-10440107]\n",
      "\u001b[1mSize of the range:\u001b[0m 440096\n",
      "\n",
      "0         10000011\n",
      "1         10000012\n",
      "2         10000013\n",
      "3         10000014\n",
      "4         10000015\n",
      "            ...   \n",
      "359387    10440101\n",
      "359388    10440104\n",
      "359389    10440105\n",
      "359390    10440106\n",
      "359391    10440107\n",
      "Name: Transaction ID, Length: 359392, dtype: int64\n"
     ]
    }
   ],
   "source": [
    "ids = master[\"Transaction ID\"]\n",
    "\n",
    "print(f\"\\n{bold('Number of entries:')} {ids.count()}\")\n",
    "print(f\"{bold('Unique values:')} {len(ids.unique())}\")\n",
    "print(f\"{bold('Range of the IDs:')} [{ids.min()}-{ids.max()}]\")\n",
    "print(f\"{bold('Size of the range:')} {ids.max()- ids.min()}\")\n",
    "print()\n",
    "print(ids)"
   ]
  },
  {
   "cell_type": "markdown",
   "id": "047d540c",
   "metadata": {},
   "source": [
    "There are as many unique values as entries, which means that each row is properly (uniquely) identified by its ID.\n",
    "\n",
    "As an observation, it seems that each consecutive ID increments in 1. While the range suggests that there have been around 440000 entries, we only have access to around 360000. This could mean that the database has already been cleaned of missing entries or that only a selection of cities has been included, for example.\n",
    "\n",
    "### Date of Travel\n",
    "As I mentioned before, this field could be better formatted. In the assignment text it is mentioned that the database contains data from a period ranging from 31/01/2016 to 31/12/2018. If the integer at the ```Date of Travel``` field represents days, then there should be over 1000 of them (~3 years):"
   ]
  },
  {
   "cell_type": "code",
   "execution_count": 4,
   "id": "eb428b61",
   "metadata": {},
   "outputs": [
    {
     "data": {
      "text/plain": [
       "1094"
      ]
     },
     "execution_count": 4,
     "metadata": {},
     "output_type": "execute_result"
    }
   ],
   "source": [
    "time = master[\"Date of Travel\"]\n",
    "time.max() - time.min()"
   ]
  },
  {
   "cell_type": "markdown",
   "id": "5b1f7ef4",
   "metadata": {},
   "source": [
    "This seems to indicate that the dates are measured in days. With this information, we can transform the format of the dates into a more readable format:"
   ]
  },
  {
   "cell_type": "code",
   "execution_count": 5,
   "id": "f53a78e7",
   "metadata": {},
   "outputs": [
    {
     "name": "stdout",
     "output_type": "stream",
     "text": [
      "0        2016-02-06\n",
      "1        2016-02-04\n",
      "2        2016-01-31\n",
      "3        2016-02-05\n",
      "4        2016-02-01\n",
      "            ...    \n",
      "359387   2018-02-06\n",
      "359388   2018-02-02\n",
      "359389   2018-02-03\n",
      "359390   2018-02-03\n",
      "359391   2018-01-31\n",
      "Name: Date of Travel, Length: 359392, dtype: datetime64[ns]\n",
      "\n",
      "\u001b[1mFirst day:\u001b[0m 2016-01-31 00:00:00\n",
      "\u001b[1mLast day:\u001b[0m 2019-01-29 00:00:00\n"
     ]
    }
   ],
   "source": [
    "origin = pd.to_datetime(\"31/01/2016\")\n",
    "master[\"Date of Travel\"] = origin + pd.to_timedelta(time - time.min(), unit=\"D\")\n",
    "print(master[\"Date of Travel\"])\n",
    "print()\n",
    "print(f\"{bold('First day:')} {master['Date of Travel'].min()}\")\n",
    "print(f\"{bold('Last day:')} {master['Date of Travel'].max()}\")"
   ]
  },
  {
   "cell_type": "markdown",
   "id": "fbc28de7",
   "metadata": {},
   "source": [
    "Note that last day is a month later than we were indicated (31/12/2018). This result still feels consistend as the second date is indeed 1094 days after the first.\n",
    "\n",
    "A time variable is quite juicy. Let's see how the amount of entries varies per month (approx)."
   ]
  },
  {
   "cell_type": "code",
   "execution_count": 6,
   "id": "d1407555",
   "metadata": {},
   "outputs": [
    {
     "data": {
      "text/plain": [
       "<AxesSubplot:>"
      ]
     },
     "execution_count": 6,
     "metadata": {},
     "output_type": "execute_result"
    },
    {
     "data": {
      "image/png": "[encoded data removed]",
      "text/plain": [
       "<Figure size 432x288 with 1 Axes>"
      ]
     },
     "metadata": {
      "needs_background": "light"
     },
     "output_type": "display_data"
    }
   ],
   "source": [
    "from matplotlib import pyplot as plt\n",
    "plt.xticks(rotation='vertical')\n",
    "master[\"Date of Travel\"].hist(bins = 12 * 3)"
   ]
  },
  {
   "cell_type": "markdown",
   "id": "1540fb07",
   "metadata": {},
   "source": [
    "A clear seasonality can be appreciated. This will contribute to an hypothesis later. For now, let's move on with the next field:\n",
    "\n",
    "### Company\n",
    "This is clearly a categorical field, so let's check which categories are present."
   ]
  },
  {
   "cell_type": "code",
   "execution_count": 7,
   "id": "3393f9dd",
   "metadata": {},
   "outputs": [
    {
     "data": {
      "text/plain": [
       "array(['Pink Cab', 'Yellow Cab'], dtype=object)"
      ]
     },
     "execution_count": 7,
     "metadata": {},
     "output_type": "execute_result"
    }
   ],
   "source": [
    "master[\"Company\"].unique()"
   ]
  },
  {
   "cell_type": "markdown",
   "id": "dad73bec",
   "metadata": {},
   "source": [
    "Two quick observations from this line:\n",
    "- There are only two companies: \"Pink Cab\" and \"Yellow Cab\".\n",
    "- There is no missing data, since we know that every entry is filled with either \"Pink Cab\" or \"Yellow Cab\" (i.e., there are no values with \"missing\", \"error\" or similar).\n",
    "\n",
    "Lastly for this field let's check how do these two companies compare in amount of trips:"
   ]
  },
  {
   "cell_type": "code",
   "execution_count": 8,
   "id": "451ee792",
   "metadata": {},
   "outputs": [
    {
     "data": {
      "text/plain": [
       "<AxesSubplot:>"
      ]
     },
     "execution_count": 8,
     "metadata": {},
     "output_type": "execute_result"
    },
    {
     "data": {
      "image/png": "[encoded data removed]",
      "text/plain": [
       "<Figure size 432x288 with 1 Axes>"
      ]
     },
     "metadata": {
      "needs_background": "light"
     },
     "output_type": "display_data"
    }
   ],
   "source": [
    "master[\"Company\"].hist(bins=2)"
   ]
  },
  {
   "cell_type": "markdown",
   "id": "8e24c543",
   "metadata": {},
   "source": [
    "For this time period, \"Yellow Cab\" has had around 3 times as many transactions as \"Pink Cab\". Take into account that that doesn't mean that they made 3 times as much money, for example, since other factors such as the margin or the distance of the trips might influence the profit.\n",
    "\n",
    "This will form an hypothesis later: we need to thoroughly compare each company in other reasonable ways and speculate about which firm would be a better investment.\n",
    "\n",
    "### City\n",
    "Another categorical field. Let's see its possible values:"
   ]
  },
  {
   "cell_type": "code",
   "execution_count": 9,
   "id": "f3342203",
   "metadata": {},
   "outputs": [
    {
     "data": {
      "text/plain": [
       "array(['ATLANTA GA', 'AUSTIN TX', 'BOSTON MA', 'CHICAGO IL', 'DALLAS TX',\n",
       "       'DENVER CO', 'LOS ANGELES CA', 'MIAMI FL', 'NASHVILLE TN',\n",
       "       'NEW YORK NY', 'ORANGE COUNTY', 'PHOENIX AZ', 'PITTSBURGH PA',\n",
       "       'SACRAMENTO CA', 'SAN DIEGO CA', 'SEATTLE WA', 'SILICON VALLEY',\n",
       "       'TUCSON AZ', 'WASHINGTON DC'], dtype=object)"
      ]
     },
     "execution_count": 9,
     "metadata": {},
     "output_type": "execute_result"
    }
   ],
   "source": [
    "cities = master[\"City\"]\n",
    "cities.unique()"
   ]
  },
  {
   "cell_type": "markdown",
   "id": "69f0a6e5",
   "metadata": {},
   "source": [
    "Just like with companies, every entry seems to be a propper city. If one wanted to process this field they should be careful, though, since the formats vary: e.g. ```SILICON VALLEY``` has two words but no state or ```NEW YORK NY``` has three words (with state).\n",
    "Let's see how many transactions there are per city:"
   ]
  },
  {
   "cell_type": "code",
   "execution_count": 10,
   "id": "32b91a2d",
   "metadata": {},
   "outputs": [
    {
     "data": {
      "text/plain": [
       "<AxesSubplot:>"
      ]
     },
     "execution_count": 10,
     "metadata": {},
     "output_type": "execute_result"
    },
    {
     "data": {
      "image/png": "[encoded data removed]",
      "text/plain": [
       "<Figure size 432x288 with 1 Axes>"
      ]
     },
     "metadata": {
      "needs_background": "light"
     },
     "output_type": "display_data"
    }
   ],
   "source": [
    "plt.xticks(rotation='vertical')\n",
    "cities.hist(bins = len(cities.unique()))"
   ]
  },
  {
   "cell_type": "markdown",
   "id": "6900ddb5",
   "metadata": {},
   "source": [
    "The dominant cities/areas are New York, Chicago, LA and Washington. These are also the most populated cities in USA: the dataset is asking us to compare this transactions with the population of the cities. We will save this for the hypothesis.\n",
    "\n",
    "### KM Travelled\n",
    "This is a straightforward numerical value. Let's see what is its distribution: "
   ]
  },
  {
   "cell_type": "code",
   "execution_count": 11,
   "id": "3ccbfa18",
   "metadata": {},
   "outputs": [
    {
     "data": {
      "text/plain": [
       "<AxesSubplot:>"
      ]
     },
     "execution_count": 11,
     "metadata": {},
     "output_type": "execute_result"
    },
    {
     "data": {
      "image/png": "[encoded data removed]",
      "text/plain": [
       "<Figure size 432x288 with 1 Axes>"
      ]
     },
     "metadata": {
      "needs_background": "light"
     },
     "output_type": "display_data"
    }
   ],
   "source": [
    "master[\"KM Travelled\"].hist(bins=40)"
   ]
  },
  {
   "cell_type": "markdown",
   "id": "9e5d0cfc",
   "metadata": {},
   "source": [
    "A pretty uniform distribution, with a slight increase in trips less than 5km and a linear decay from 40 to 50 km. Apparently not a single transaction over 50km has been recorded in this database.\n",
    "\n",
    "### Price Charged and Cost of Trip\n",
    "These are twin values. Let's check their distribution:"
   ]
  },
  {
   "cell_type": "code",
   "execution_count": 12,
   "id": "9feb6efc",
   "metadata": {},
   "outputs": [
    {
     "data": {
      "text/plain": [
       "<matplotlib.legend.Legend at 0x7fe9dcd22040>"
      ]
     },
     "execution_count": 12,
     "metadata": {},
     "output_type": "execute_result"
    },
    {
     "data": {
      "image/png": "[encoded data removed]",
      "text/plain": [
       "<Figure size 432x288 with 1 Axes>"
      ]
     },
     "metadata": {
      "needs_background": "light"
     },
     "output_type": "display_data"
    }
   ],
   "source": [
    "charged = master[\"Price Charged\"]\n",
    "cost = master[\"Cost of Trip\"]\n",
    "bins = list(range(0, int(charged.max()), 25))\n",
    "plt.hist(charged, alpha = 0.5, bins=bins, label=\"Charged\")\n",
    "plt.hist(cost, alpha = 0.5, bins=bins, label=\"Cost\")\n",
    "plt.xlabel(\"$\")\n",
    "plt.ylabel(\"Transaction count on a 25$ window\")\n",
    "plt.legend()"
   ]
  },
  {
   "cell_type": "markdown",
   "id": "1e06e05a",
   "metadata": {},
   "source": [
    "The charged prices has a higher distribution of values than the cost prices, as expected. Notice, though, that one distribution is not just a translated version of the other. This indicates that the profit margin is variable with the cost.\n",
    "\n",
    "Talking about margin, that is an interesting field to consider. Let's include it in the database and see how it relates, for example, to the traveled km:"
   ]
  },
  {
   "cell_type": "code",
   "execution_count": 13,
   "id": "a27092f0",
   "metadata": {},
   "outputs": [
    {
     "name": "stdout",
     "output_type": "stream",
     "text": [
      "Range of the margin: [-220$ to 1463$]\n"
     ]
    }
   ],
   "source": [
    "master[\"Profit\"] = charged - cost\n",
    "lowest = int(master[\"Profit\"].min())\n",
    "highest = int(master[\"Profit\"].max())\n",
    "print(f'Range of the margin: [{lowest}$ to {highest}$]')"
   ]
  },
  {
   "cell_type": "markdown",
   "id": "324f0394",
   "metadata": {},
   "source": [
    "That's unexpected! it seems that for some trips there have been losses (negative profit). Let's see what kind of distribution the profit has:"
   ]
  },
  {
   "cell_type": "code",
   "execution_count": 15,
   "id": "153cc8d4",
   "metadata": {},
   "outputs": [
    {
     "data": {
      "text/plain": [
       "<matplotlib.legend.Legend at 0x7fe9dc95bc40>"
      ]
     },
     "execution_count": 15,
     "metadata": {},
     "output_type": "execute_result"
    },
    {
     "data": {
      "image/png": "[encoded data removed]",
      "text/plain": [
       "<Figure size 432x288 with 1 Axes>"
      ]
     },
     "metadata": {
      "needs_background": "light"
     },
     "output_type": "display_data"
    }
   ],
   "source": [
    "master[\"Profit\"].hist(bins=50)\n",
    "plt.axvline(0, color=\"red\", linewidth=2,label=\"Profit = 0\")\n",
    "plt.ylabel(\"Transaction count\")\n",
    "plt.xlabel(\"Profit ($)\")\n",
    "plt.legend()"
   ]
  },
  {
   "cell_type": "markdown",
   "id": "635c40b6",
   "metadata": {},
   "source": [
    "As we can see, most of the points have a positive profit, but there is still a lot of points where are losses. Finally, let's check what's the proportion between this points."
   ]
  },
  {
   "cell_type": "code",
   "execution_count": 17,
   "id": "07eee778",
   "metadata": {},
   "outputs": [
    {
     "data": {
      "text/plain": [
       "'Percentage of trips with losses: 6%'"
      ]
     },
     "execution_count": 17,
     "metadata": {},
     "output_type": "execute_result"
    }
   ],
   "source": [
    "total_transactions = master[\"Profit\"].count()\n",
    "losses_transactions = master[\"Profit\"].loc[master[\"Profit\"] < 0].count()\n",
    "f\"Percentage of trips with losses: {(100 * losses_transactions) // total_transactions}%\""
   ]
  },
  {
   "cell_type": "code",
   "execution_count": 18,
   "id": "6fa00ec1",
   "metadata": {},
   "outputs": [],
   "source": [
    "# Saving the master data\n",
    "master.to_csv(\"datasets/master_data.csv\")"
   ]
  },
  {
   "cell_type": "markdown",
   "id": "c3a50a36",
   "metadata": {},
   "source": [
    "# Hypothesis\n",
    "1. Seasonality is present in the the average trip's profit.\n",
    "2. Seasonality is present in the length of the trips.\n",
    "3. One of the two companies is growing faster than the other.\n",
    "4. One of the two companies has more profit per trip than the other.\n",
    "5. Some of the cities have more transactions than the average even after taking its population into account.\n",
    "6. Some of the cities have, in average, more long trips than others.\n",
    "\n",
    "## Seasonality is present in the the average trip's profit.\n",
    "To test this out, I will average profit by day and see how it evolves."
   ]
  },
  {
   "cell_type": "code",
   "execution_count": 42,
   "id": "021e20e6",
   "metadata": {},
   "outputs": [
    {
     "data": {
      "text/plain": [
       "Text(0, 0.5, 'Mean profit($)')"
      ]
     },
     "execution_count": 42,
     "metadata": {},
     "output_type": "execute_result"
    },
    {
     "data": {
      "image/png": "[encoded data removed]",
      "text/plain": [
       "<Figure size 432x288 with 1 Axes>"
      ]
     },
     "metadata": {
      "needs_background": "light"
     },
     "output_type": "display_data"
    }
   ],
   "source": [
    "profit_time_series = master[[\"Profit\"]].set_index(master[\"Date of Travel\"])\n",
    "daily_mean = profit_time_series.groupby(pd.Grouper(freq=\"D\")).mean()\n",
    "plt.plot(daily_mean.index, daily_mean[\"Profit\"])\n",
    "plt.xticks(rotation='vertical')\n",
    "plt.ylabel(\"Mean profit ($)\")"
   ]
  },
  {
   "cell_type": "markdown",
   "id": "58fdb0f8",
   "metadata": {},
   "source": [
    "Too grainy. Let's try again grouping by month instead. Let's also plot how many transactions were there in each month, see if there is some correlation:"
   ]
  },
  {
   "cell_type": "code",
   "execution_count": 58,
   "id": "63a936f0",
   "metadata": {},
   "outputs": [
    {
     "data": {
      "text/plain": [
       "<matplotlib.legend.Legend at 0x7fe9c2c85e20>"
      ]
     },
     "execution_count": 58,
     "metadata": {},
     "output_type": "execute_result"
    },
    {
     "data": {
      "image/png": "[encoded data removed]",
      "text/plain": [
       "<Figure size 432x288 with 2 Axes>"
      ]
     },
     "metadata": {
      "needs_background": "light"
     },
     "output_type": "display_data"
    }
   ],
   "source": [
    "monthly_mean = profit_time_series.groupby(pd.Grouper(freq=\"M\")).mean()\n",
    "monthly_count = profit_time_series.groupby(pd.Grouper(freq=\"M\")).count()\n",
    "\n",
    "fig, ax1 = plt.subplots()\n",
    "\n",
    "ax1.set_ylabel('Mean profit ($)',)\n",
    "ax1.plot(monthly_mean.index, monthly_mean[\"Profit\"], label=\"Profit\", color=\"C0\")\n",
    "ax1.tick_params(axis=\"x\", rotation=90)\n",
    "\n",
    "ax2 = ax1.twinx()\n",
    "\n",
    "ax2.set_ylabel('Transaction Count')\n",
    "ax2.plot(monthly_count.index, monthly_count[\"Profit\"], label=\"Count\", color=\"C1\")\n",
    "\n",
    "fig.legend()"
   ]
  },
  {
   "cell_type": "markdown",
   "id": "d194e8ef",
   "metadata": {},
   "source": [
    "Side by side with the amount of transactions, it seems like the **Law of Demand** is at work here. There is indeed a seasonality: when the demand starts increasing -i.e., transactions start raising around August-, the \"value\" of the cab trips starts decreasing.\n",
    "\n",
    "## Seasonality is present in the length of the trips.\n",
    "Another way to ask this is: is there a shift between inter and intra city trips between seasons? Again, let's do a monthly average and check it out."
   ]
  },
  {
   "cell_type": "code",
   "execution_count": 80,
   "id": "7d9f784a",
   "metadata": {},
   "outputs": [
    {
     "data": {
      "image/png": "[encoded data removed]",
      "text/plain": [
       "<Figure size 432x288 with 1 Axes>"
      ]
     },
     "metadata": {
      "needs_background": "light"
     },
     "output_type": "display_data"
    }
   ],
   "source": [
    "kms = master[[\"KM Travelled\"]].set_index(master[\"Date of Travel\"])\n",
    "daily_mean_kms = kms.groupby(pd.Grouper(freq=\"M\")).mean()\n",
    "\n",
    "plt.plot(daily_mean_kms.index, daily_mean_kms[\"KM Travelled\"])\n",
    "plt.xticks(rotation='vertical')\n",
    "plt.ylabel(\"Average trip's distance (km)\")\n",
    "plt.show()"
   ]
  },
  {
   "cell_type": "markdown",
   "id": "66077abb",
   "metadata": {},
   "source": [
    "If there is seasonality here, its effect would be less than half a kilometer in the average. To gain perspective, let's just replot this in a 5 km interval:"
   ]
  },
  {
   "cell_type": "code",
   "execution_count": 84,
   "id": "843fa598",
   "metadata": {},
   "outputs": [
    {
     "data": {
      "image/png": "[encoded data removed]",
      "text/plain": [
       "<Figure size 432x288 with 1 Axes>"
      ]
     },
     "metadata": {
      "needs_background": "light"
     },
     "output_type": "display_data"
    }
   ],
   "source": [
    "plt.plot(daily_mean_kms.index, daily_mean_kms[\"KM Travelled\"])\n",
    "plt.xticks(rotation='vertical')\n",
    "plt.ylabel(\"Average trip's distance (km)\")\n",
    "center = daily_mean_kms[\"KM Travelled\"].mean()\n",
    "plt.ylim(center-2.5, center+2.5)\n",
    "plt.show()"
   ]
  },
  {
   "cell_type": "markdown",
   "id": "9a27feb4",
   "metadata": {},
   "source": [
    "The average trip's distance seems to be pretty flat overall; for further analysis we could just consider"
   ]
  }
 ],
 "metadata": {
  "kernelspec": {
   "display_name": "Python 3 (ipykernel)",
   "language": "python",
   "name": "python3"
  },
  "language_info": {
   "codemirror_mode": {
    "name": "ipython",
    "version": 3
   },
   "file_extension": ".py",
   "mimetype": "text/x-python",
   "name": "python",
   "nbconvert_exporter": "python",
   "pygments_lexer": "ipython3",
   "version": "3.9.9"
  }
 },
 "nbformat": 4,
 "nbformat_minor": 5
}
