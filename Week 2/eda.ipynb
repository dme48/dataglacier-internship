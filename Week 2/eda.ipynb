{
 "cells": [
  {
   "cell_type": "markdown",
   "id": "628f13ae",
   "metadata": {},
   "source": [
    "# EDA for Cab database\n",
    "\n",
    "## Basic setup\n",
    "\n",
    "Loading packages:\n",
    "- pandas (pd) to load and manage the db\n",
    "- numpy (np) mainly to access NaN\n",
    "- seaborn (sns) for simple plotting.\n",
    "    - selecting the basic theme"
   ]
  },
  {
   "cell_type": "code",
   "execution_count": null,
   "id": "a7dddd46",
   "metadata": {},
   "outputs": [],
   "source": [
    "import pandas as pd\n",
    "import numpy as np\n",
    "import seaborn as sns\n",
    "# sns.set_theme()"
   ]
  },
  {
   "cell_type": "markdown",
   "id": "78ba854c",
   "metadata": {},
   "source": [
    "Loading the different parts of the database."
   ]
  },
  {
   "cell_type": "code",
   "execution_count": null,
   "id": "23630c8e",
   "metadata": {},
   "outputs": [],
   "source": [
    "trips = pd.read_csv(\"datasets/Cab_Data.csv\")\n",
    "customers = pd.read_csv(\"datasets/Customer_ID.csv\")\n",
    "cities = pd.read_csv(\"datasets/City.csv\")\n",
    "transactions = pd.read_csv(\"datasets/Transaction_ID.csv\")"
   ]
  },
  {
   "cell_type": "markdown",
   "id": "26621fe2",
   "metadata": {},
   "source": [
    "## Univariate analysis\n",
    "In the following snippets I explore fields individually. I focus on the \"main\" dataset, ```trips``` (```Cab_Data.csv```).\n",
    "\n",
    "Let's look at the missing entries in each field:"
   ]
  },
  {
   "cell_type": "code",
   "execution_count": 136,
   "id": "eaf76ea8",
   "metadata": {},
   "outputs": [
    {
     "name": "stdout",
     "output_type": "stream",
     "text": [
      "Number of entries: 359392\n",
      "\n",
      "Fraction of available entries per field:\n",
      "Transaction ID    1.0\n",
      "Date of Travel    1.0\n",
      "Company           1.0\n",
      "City              1.0\n",
      "KM Travelled      1.0\n",
      "Price Charged     1.0\n",
      "Cost of Trip      1.0\n",
      "dtype: float64\n",
      "\n",
      "Data types of each field:\n",
      "Transaction ID             int64\n",
      "Date of Travel    datetime64[ns]\n",
      "Company                   object\n",
      "City                      object\n",
      "KM Travelled             float64\n",
      "Price Charged            float64\n",
      "Cost of Trip             float64\n",
      "dtype: object\n"
     ]
    }
   ],
   "source": [
    "# Number of entries\n",
    "entry_count = trips.shape[0]\n",
    "print(f\"Number of entries: {entry_count}\\n\")\n",
    "print(f\"Fraction of available entries per field:\\n{trips.count() / entry_count}\\n\")\n",
    "print(f\"Data types of each field:\\n{trips.dtypes}\")"
   ]
  },
  {
   "cell_type": "markdown",
   "id": "51f653f0",
   "metadata": {},
   "source": [
    "On a first look all entries are completelly filled. However, missing values might still be present in other poorly formated shapes (e.g. strings containing \"NaN\" literally).\n",
    "\n",
    "The data types seem to be correct, although the format of the dates is not intuitive and needs processing. \n",
    "\n",
    "\n",
    "### Transaction ID:\n",
    "There are no apparent missing values, so for now we just check the field's range and it's unique values."
   ]
  },
  {
   "cell_type": "code",
   "execution_count": null,
   "id": "bec8f8c7",
   "metadata": {},
   "outputs": [],
   "source": [
    "ids = trips[\"Transaction ID\"]\n",
    "print(ids)\n",
    "\n",
    "print(f\"\\nNumber of entries: {ids.count()}\")\n",
    "print(f\"Unique values {len(ids.unique())}\")\n",
    "print(f\"Range of the IDs: [{ids.min()}-{ids.max()}]\")\n",
    "print(f\"Size of the range: {ids.max()- ids.min()}\")"
   ]
  },
  {
   "cell_type": "markdown",
   "id": "047d540c",
   "metadata": {},
   "source": [
    "There are as many unique values as entries, which means that each row is properly identified by its ID.\n",
    "\n",
    "As an observation, it seems that each consecutive ID increments in 1. While the range suggests that there have been around 440000 entries, we only have access to around 360000. This could mean, for example, that the database has already been cleaned of missing entries or outliers.\n",
    "\n",
    "### Date of Travel\n",
    "As I mentioned before, this field should be propperly formatted. In the assignment text it is mentioned that the database is included in a period ranging from 31/01/2016 to 31/12/2018. If the integer at the ```Date of Travel``` field represents days, then there should be over 1000 of them (~3 years):"
   ]
  },
  {
   "cell_type": "code",
   "execution_count": null,
   "id": "eb428b61",
   "metadata": {},
   "outputs": [],
   "source": [
    "time = trips[\"Date of Travel\"]\n",
    "time.max() - time.min()"
   ]
  },
  {
   "cell_type": "markdown",
   "id": "5b1f7ef4",
   "metadata": {},
   "source": [
    "This seems to indicate that the dates are measured in days. With this information, let's transform the format of the dates into a more readable format:"
   ]
  },
  {
   "cell_type": "code",
   "execution_count": 132,
   "id": "f53a78e7",
   "metadata": {},
   "outputs": [
    {
     "name": "stdout",
     "output_type": "stream",
     "text": [
      "0        2016-02-06\n",
      "1        2016-02-04\n",
      "2        2016-01-31\n",
      "3        2016-02-05\n",
      "4        2016-02-01\n",
      "            ...    \n",
      "359387   2018-02-06\n",
      "359388   2018-02-02\n",
      "359389   2018-02-03\n",
      "359390   2018-02-03\n",
      "359391   2018-01-31\n",
      "Name: Date of Travel, Length: 359392, dtype: datetime64[ns]\n",
      "\n",
      "First day: 2016-01-31 00:00:00\n",
      "\n",
      "Last day: 2019-01-29 00:00:00\n"
     ]
    }
   ],
   "source": [
    "origin = pd.to_datetime(\"31/01/2016\")\n",
    "trips[\"Date of Travel\"] = origin + pd.to_timedelta(time - time.min(), unit=\"D\")\n",
    "print(trips[\"Date of Travel\"])\n",
    "print(f\"\\nFirst day: {trips['Date of Travel'].min()}\")\n",
    "print(f\"\\nLast day: {trips['Date of Travel'].max()}\")"
   ]
  },
  {
   "cell_type": "markdown",
   "id": "fbc28de7",
   "metadata": {},
   "source": [
    "A time variable is quite juicy. Let's see how the amount of entries varies per month (approx)."
   ]
  },
  {
   "cell_type": "code",
   "execution_count": 135,
   "id": "d1407555",
   "metadata": {},
   "outputs": [
    {
     "data": {
      "text/plain": [
       "<AxesSubplot:>"
      ]
     },
     "execution_count": 135,
     "metadata": {},
     "output_type": "execute_result"
    },
    {
     "data": {
      "image/png": "[encoded data removed]",
      "text/plain": [
       "<Figure size 432x288 with 1 Axes>"
      ]
     },
     "metadata": {
      "needs_background": "light"
     },
     "output_type": "display_data"
    }
   ],
   "source": [
    "trips[\"Date of Travel\"].hist(bins = 12 * 3)"
   ]
  },
  {
   "cell_type": "markdown",
   "id": "1540fb07",
   "metadata": {},
   "source": [
    "A clear seasonality can be appreciated, although I do not intend to do a proper analysis in this EDA. Let's move on with the next field:\n",
    "\n",
    "### Company\n",
    "This is clearly a categorical field, so let's check which categories are present."
   ]
  },
  {
   "cell_type": "code",
   "execution_count": 138,
   "id": "3393f9dd",
   "metadata": {},
   "outputs": [
    {
     "data": {
      "text/plain": [
       "array(['Pink Cab', 'Yellow Cab'], dtype=object)"
      ]
     },
     "execution_count": 138,
     "metadata": {},
     "output_type": "execute_result"
    }
   ],
   "source": [
    "trips[\"Company\"].unique()"
   ]
  },
  {
   "cell_type": "markdown",
   "id": "dad73bec",
   "metadata": {},
   "source": [
    "Two observations from this line:\n",
    "- There are only two companies: \"Pink Cab\" and \"Yellow Cab\".\n",
    "- There is no missing data, since we know that every entry is filled with either \"Pink Cab\" or \"Yellow Cab\" (i.e., there are no values with \"missing\", \"error\" or similar).\n",
    "\n",
    "Lastly for this field let's check how do these two companies compare in amount of trips:"
   ]
  },
  {
   "cell_type": "code",
   "execution_count": 142,
   "id": "451ee792",
   "metadata": {},
   "outputs": [
    {
     "data": {
      "text/plain": [
       "<AxesSubplot:>"
      ]
     },
     "execution_count": 142,
     "metadata": {},
     "output_type": "execute_result"
    },
    {
     "data": {
      "image/png": "[encoded data removed]",
      "text/plain": [
       "<Figure size 432x288 with 1 Axes>"
      ]
     },
     "metadata": {
      "needs_background": "light"
     },
     "output_type": "display_data"
    }
   ],
   "source": [
    "trips[\"Company\"].hist(bins = 2)"
   ]
  },
  {
   "cell_type": "markdown",
   "id": "8e24c543",
   "metadata": {},
   "source": [
    "For this time period, \"Yellow Cab\" has had around 3 times as many transactions as \"Pink Cab\". Take into account that that doesn't mean that they made 3 times as much money, for example, since other factors such as the comission margin or the distance of the trips might influence the profit.\n",
    "\n",
    "### City\n"
   ]
  },
  {
   "cell_type": "code",
   "execution_count": null,
   "id": "f3342203",
   "metadata": {},
   "outputs": [],
   "source": []
  }
 ],
 "metadata": {
  "kernelspec": {
   "display_name": "Python 3 (ipykernel)",
   "language": "python",
   "name": "python3"
  },
  "language_info": {
   "codemirror_mode": {
    "name": "ipython",
    "version": 3
   },
   "file_extension": ".py",
   "mimetype": "text/x-python",
   "name": "python",
   "nbconvert_exporter": "python",
   "pygments_lexer": "ipython3",
   "version": "3.9.9"
  }
 },
 "nbformat": 4,
 "nbformat_minor": 5
}
