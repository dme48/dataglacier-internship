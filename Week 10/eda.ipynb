{
 "cells": [
  {
   "cell_type": "code",
   "execution_count": 14,
   "metadata": {},
   "outputs": [],
   "source": [
    "#Week 9 deliverable ipynb notebook\n",
    "#Group: The Data Pipers\n",
    "#Members: Diego Martinez Echevarria, dmartinezechevarria@gmail.com, Spain/Denmark, Data Analyst\n",
    "#         Jennifer Turley, jennifer.turley@ucdconnect.ie, Ireland, Data Analyst\n",
    "#Problem Description: Data Collection Pipeline, this project will collect data from surveys, \n",
    "#                     converting the data into useful information\n",
    "#Github Repo Link: https://github.com/dme48/data-pipers\n",
    "#some of the code in progress is below, it can also be found at the above github link"
   ]
  },
  {
   "cell_type": "code",
   "execution_count": 15,
   "metadata": {},
   "outputs": [],
   "source": [
    "###Functions related to the gathering of data from online forms"
   ]
  },
  {
   "cell_type": "code",
   "execution_count": 16,
   "metadata": {},
   "outputs": [],
   "source": [
    "#required packages\n",
    "import os\n",
    "import json\n",
    "import pandas as pd\n",
    "from typing import Iterable\n",
    "from typeform import Typeform"
   ]
  },
  {
   "cell_type": "code",
   "execution_count": 17,
   "metadata": {},
   "outputs": [],
   "source": [
    "#Fetches answers\n",
    "def fetch_typeform(login_filename: str = \"login\",\n",
    "                   field_ids_filename=\"question_ids.json\") -> pd.DataFrame:\n",
    "\n",
    "    \n",
    "    ids_to_fields = read_field_ids(field_ids_filename)\n",
    "    (token, form_id) = read_login(login_filename)\n",
    "    responses = Typeform(token).responses\n",
    "    query_result: dict = responses.list(form_id)\n",
    "\n",
    "    answers = extract_answers(query_result, ids_to_fields)\n",
    "\n",
    "    return pd.DataFrame.from_dict(answers)\n"
   ]
  },
  {
   "cell_type": "code",
   "execution_count": 18,
   "metadata": {},
   "outputs": [],
   "source": [
    "#Reads the file (filename) and returns it as a dictionary\n",
    "def read_field_ids(filename: str):\n",
    "    path = os.path.dirname(os.path.realpath(__file__)) + \"/\" + filename\n",
    "    with open(path, \"r\") as json_file:\n",
    "        question_ids = json.load(json_file)\n",
    "    return question_ids"
   ]
  },
  {
   "cell_type": "code",
   "execution_count": 19,
   "metadata": {},
   "outputs": [],
   "source": [
    "#Reads the login file (filename) and returns the token and the form ID\n",
    "def read_login(filename: str):\n",
    "    path = os.path.dirname(os.path.realpath(__file__)) + \"/\" + filename\n",
    "    with open(path, \"r\") as f:\n",
    "        login_fields = f.read().split(\"\\n\")\n",
    "    return login_fields[0:2]\n"
   ]
  },
  {
   "cell_type": "code",
   "execution_count": 20,
   "metadata": {},
   "outputs": [],
   "source": [
    "#Extracts the answers from a Typeform formatted dict (single solved form)\n",
    "def extract_answers(query_response: dict, ids_to_fields: dict):\n",
    "    #Arguments:\n",
    "        #query_response (dict): Typeform's dict containing all responses\n",
    "        #ids_to_fields (dict): Connects question ids to corresponding fields\n",
    "    #Returns:\n",
    "        #dict containing the (formatted) answers to the form, in the shape of\n",
    "        #{field_a: [answer_a, answer_b, ...],\n",
    "        # field_b: [answer_a, answer_b, ...],...}.\n",
    "        #If no answer was found at some point, then its answer is None, which\n",
    "       # means that every list has the same length.\n",
    "   \n",
    "    fields = [f for f in ids_to_fields.values()]\n",
    "    final_answers = {f: [] for f in fields}\n",
    "    for answer_set in query_response[\"items\"]:\n",
    "        remaining_fields = set(fields)\n",
    "\n",
    "        for question in answer_set[\"answers\"]:\n",
    "            field = ids_to_fields[question[\"field\"][\"id\"]]\n",
    "            answer = format_answer(question)\n",
    "            final_answers[field].append(answer)\n",
    "            remaining_fields.discard(field)\n",
    "        for field in remaining_fields:\n",
    "            final_answers[field].append(None)\n",
    "\n",
    "    return final_answers\n",
    "\n",
    "\n",
    "FORMAT_GUIDE = {\n",
    "    \"text\": lambda x: x,\n",
    "    \"boolean\": lambda x: x,\n",
    "    \"number\": lambda x: float(x),\n",
    "    \"choice\": lambda x: x[\"label\"],\n",
    "    \"choices\": lambda x: x[\"labels\"]\n",
    "}\n",
    "\n"
   ]
  },
  {
   "cell_type": "code",
   "execution_count": 21,
   "metadata": {},
   "outputs": [],
   "source": [
    "#Extracts the answer from a question and formats it\n",
    "def format_answer(question):\n",
    "    \n",
    "    answer_type = question[\"type\"]\n",
    "    answer = question[answer_type]\n",
    "\n",
    "    return FORMAT_GUIDE[answer_type](answer)"
   ]
  },
  {
   "cell_type": "code",
   "execution_count": null,
   "metadata": {},
   "outputs": [],
   "source": []
  },
  {
   "cell_type": "code",
   "execution_count": null,
   "metadata": {},
   "outputs": [],
   "source": []
  }
 ],
 "metadata": {
  "kernelspec": {
   "display_name": "Python 3 (ipykernel)",
   "language": "python",
   "name": "python3"
  },
  "language_info": {
   "codemirror_mode": {
    "name": "ipython",
    "version": 3
   },
   "file_extension": ".py",
   "mimetype": "text/x-python",
   "name": "python",
   "nbconvert_exporter": "python",
   "pygments_lexer": "ipython3",
   "version": "3.10.2"
  }
 },
 "nbformat": 4,
 "nbformat_minor": 2
}
